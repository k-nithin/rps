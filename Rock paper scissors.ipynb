{
 "cells": [
  {
   "cell_type": "code",
   "execution_count": null,
   "metadata": {},
   "outputs": [
    {
     "name": "stdout",
     "output_type": "stream",
     "text": [
      "rock, paper, scissors \n",
      "rock\n",
      "pc won\n",
      "pc choice  paper\n",
      "\n",
      " \n",
      "\n"
     ]
    }
   ],
   "source": [
    "import random as rn\n",
    "inp = False\n",
    "foo = ['rock', 'paper','scissors']\n",
    "while inp == False :\n",
    "    inp = input ('rock, paper, scissors \\n')\n",
    "    pc = rn.choice(foo)\n",
    "    if inp == pc:\n",
    "        print ('tie')\n",
    "        print('pc choice ', pc)\n",
    "    elif inp == 'rock' and pc == 'paper':\n",
    "        print ('pc won')\n",
    "        print('pc choice ', pc)\n",
    "    elif inp == 'rock' and pc == 'scissors':\n",
    "        print('player won')\n",
    "        print('pc choice ', pc)\n",
    "    elif inp == 'paper' and pc == 'rock':\n",
    "        print ('player won')\n",
    "        print('pc choice ', pc)\n",
    "    elif inp == 'paper' and pc == 'scissors':\n",
    "        print ('pc won')\n",
    "        print('pc choice ', pc)\n",
    "    elif inp == 'scissors' and pc == 'rock':\n",
    "        print ('pc won')\n",
    "        print('pc choice ', pc)\n",
    "    elif inp == 'scissors' and pc == 'paper':\n",
    "        print('player won')\n",
    "        print('pc choice ', pc)\n",
    "    else:\n",
    "        print('check spelling')\n",
    "    print ('\\n \\n')\n",
    "    inp = False"
   ]
  },
  {
   "cell_type": "code",
   "execution_count": null,
   "metadata": {},
   "outputs": [],
   "source": []
  }
 ],
 "metadata": {
  "kernelspec": {
   "display_name": "Python 3",
   "language": "python",
   "name": "python3"
  }
 },
 "nbformat": 4,
 "nbformat_minor": 2
}
